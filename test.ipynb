{
 "cells": [
  {
   "cell_type": "code",
   "execution_count": 1,
   "metadata": {},
   "outputs": [],
   "source": [
    "from neo4j import GraphDatabase\n",
    "from langchain.graphs import Neo4jGraph\n",
    "from credentials import local_cred, remote_cred, openai_api_key\n",
    "import pandas as pd\n",
    "import os"
   ]
  },
  {
   "cell_type": "code",
   "execution_count": 2,
   "metadata": {},
   "outputs": [],
   "source": [
    "# # URI examples: \"neo4j://localhost\", \"neo4j+s://xxx.databases.neo4j.io\"\n",
    "# URI = \"neo4j+s://07c7bb01.databases.neo4j.io\"\n",
    "# AUTH = (\"neo4j\", \"_JDmn-JKikceXc-XUeDLXaYMMKoFW_PX4MbZveGDbUU\")\n",
    "\n",
    "# with GraphDatabase.driver(URI, auth=AUTH) as driver:\n",
    "#     driver.verify_connectivity()"
   ]
  },
  {
   "cell_type": "code",
   "execution_count": 19,
   "metadata": {},
   "outputs": [],
   "source": [
    "# os.environ[\"NEO4J_URI\"] = \"neo4j+s://07c7bb01.databases.neo4j.io\"\n",
    "# os.environ[\"NEO4J_USERNAME\"] = \"neo4j\"\n",
    "# os.environ[\"NEO4J_PASSWORD\"] =  \"_JDmn-JKikceXc-XUeDLXaYMMKoFW_PX4MbZveGDbUU\""
   ]
  },
  {
   "cell_type": "code",
   "execution_count": 2,
   "metadata": {},
   "outputs": [],
   "source": [
    "os.environ[\"NEO4J_URI\"] = local_cred[\"uri\"]\n",
    "os.environ[\"NEO4J_USERNAME\"] = local_cred[\"username\"]\n",
    "os.environ[\"NEO4J_PASSWORD\"] =  local_cred[\"password\"]"
   ]
  },
  {
   "cell_type": "code",
   "execution_count": 4,
   "metadata": {},
   "outputs": [],
   "source": [
    "os.environ[\"OPENAI_API_KEY\"] = openai_api_key"
   ]
  },
  {
   "cell_type": "code",
   "execution_count": 5,
   "metadata": {},
   "outputs": [],
   "source": [
    "df = pd.read_csv('https://raw.githubusercontent.com/tomasonjo/blog-datasets/main/movies/movies_small.csv')"
   ]
  },
  {
   "cell_type": "code",
   "execution_count": 6,
   "metadata": {},
   "outputs": [
    {
     "data": {
      "text/html": [
       "<div>\n",
       "<style scoped>\n",
       "    .dataframe tbody tr th:only-of-type {\n",
       "        vertical-align: middle;\n",
       "    }\n",
       "\n",
       "    .dataframe tbody tr th {\n",
       "        vertical-align: top;\n",
       "    }\n",
       "\n",
       "    .dataframe thead th {\n",
       "        text-align: right;\n",
       "    }\n",
       "</style>\n",
       "<table border=\"1\" class=\"dataframe\">\n",
       "  <thead>\n",
       "    <tr style=\"text-align: right;\">\n",
       "      <th></th>\n",
       "      <th>movieId</th>\n",
       "      <th>released</th>\n",
       "      <th>title</th>\n",
       "      <th>actors</th>\n",
       "      <th>director</th>\n",
       "      <th>genres</th>\n",
       "      <th>imdbRating</th>\n",
       "    </tr>\n",
       "  </thead>\n",
       "  <tbody>\n",
       "    <tr>\n",
       "      <th>0</th>\n",
       "      <td>1</td>\n",
       "      <td>1995-11-22</td>\n",
       "      <td>Toy Story</td>\n",
       "      <td>Jim Varney|Tim Allen|Tom Hanks|Don Rickles</td>\n",
       "      <td>John Lasseter</td>\n",
       "      <td>Adventure|Animation|Children|Comedy|Fantasy</td>\n",
       "      <td>8.3</td>\n",
       "    </tr>\n",
       "    <tr>\n",
       "      <th>1</th>\n",
       "      <td>2</td>\n",
       "      <td>1995-12-15</td>\n",
       "      <td>Jumanji</td>\n",
       "      <td>Robin Williams|Bradley Pierce|Kirsten Dunst|Jo...</td>\n",
       "      <td>Joe Johnston</td>\n",
       "      <td>Adventure|Children|Fantasy</td>\n",
       "      <td>6.9</td>\n",
       "    </tr>\n",
       "    <tr>\n",
       "      <th>2</th>\n",
       "      <td>3</td>\n",
       "      <td>1995-12-22</td>\n",
       "      <td>Grumpier Old Men</td>\n",
       "      <td>Walter Matthau|Ann-Margret|Jack Lemmon|Sophia ...</td>\n",
       "      <td>Howard Deutch</td>\n",
       "      <td>Comedy|Romance</td>\n",
       "      <td>6.6</td>\n",
       "    </tr>\n",
       "    <tr>\n",
       "      <th>3</th>\n",
       "      <td>4</td>\n",
       "      <td>1995-12-22</td>\n",
       "      <td>Waiting to Exhale</td>\n",
       "      <td>Whitney Houston|Lela Rochon|Angela Bassett|Lor...</td>\n",
       "      <td>Forest Whitaker</td>\n",
       "      <td>Romance|Drama|Comedy</td>\n",
       "      <td>5.6</td>\n",
       "    </tr>\n",
       "    <tr>\n",
       "      <th>4</th>\n",
       "      <td>5</td>\n",
       "      <td>1995-12-08</td>\n",
       "      <td>Father of the Bride Part II</td>\n",
       "      <td>Steve Martin|Kimberly Williams-Paisley|Diane K...</td>\n",
       "      <td>Charles Shyer</td>\n",
       "      <td>Comedy</td>\n",
       "      <td>5.9</td>\n",
       "    </tr>\n",
       "    <tr>\n",
       "      <th>...</th>\n",
       "      <td>...</td>\n",
       "      <td>...</td>\n",
       "      <td>...</td>\n",
       "      <td>...</td>\n",
       "      <td>...</td>\n",
       "      <td>...</td>\n",
       "      <td>...</td>\n",
       "    </tr>\n",
       "    <tr>\n",
       "      <th>294</th>\n",
       "      <td>329</td>\n",
       "      <td>1994-11-18</td>\n",
       "      <td>Star Trek: Generations</td>\n",
       "      <td>Patrick Stewart|Brent Spiner|Jonathan Frakes|L...</td>\n",
       "      <td>David Carson</td>\n",
       "      <td>Drama|Sci-Fi|Adventure</td>\n",
       "      <td>6.6</td>\n",
       "    </tr>\n",
       "    <tr>\n",
       "      <th>295</th>\n",
       "      <td>330</td>\n",
       "      <td>1995-05-24</td>\n",
       "      <td>Tales from the Hood</td>\n",
       "      <td>Samuel Monroe Jr.|De'aundre Bonds|Joe Torry|Cl...</td>\n",
       "      <td>Rusty Cundieff</td>\n",
       "      <td>Action|Crime|Horror</td>\n",
       "      <td>6.1</td>\n",
       "    </tr>\n",
       "    <tr>\n",
       "      <th>296</th>\n",
       "      <td>331</td>\n",
       "      <td>1994-12-02</td>\n",
       "      <td>Tom &amp; Viv</td>\n",
       "      <td>Willem Dafoe|Miranda Richardson|Tim Dutton|Ros...</td>\n",
       "      <td>Brian Gilbert</td>\n",
       "      <td>Drama</td>\n",
       "      <td>6.5</td>\n",
       "    </tr>\n",
       "    <tr>\n",
       "      <th>297</th>\n",
       "      <td>332</td>\n",
       "      <td>1995-04-28</td>\n",
       "      <td>Village of the Damned</td>\n",
       "      <td>Christopher Reeve|Michael Paré|Kirstie Alley|L...</td>\n",
       "      <td>John Carpenter</td>\n",
       "      <td>Horror|Sci-Fi</td>\n",
       "      <td>5.6</td>\n",
       "    </tr>\n",
       "    <tr>\n",
       "      <th>298</th>\n",
       "      <td>333</td>\n",
       "      <td>1995-03-31</td>\n",
       "      <td>Tommy Boy</td>\n",
       "      <td>Chris Farley|Bo Derek|David Spade|Brian Dennehy</td>\n",
       "      <td>Peter Segal</td>\n",
       "      <td>Comedy</td>\n",
       "      <td>7.0</td>\n",
       "    </tr>\n",
       "  </tbody>\n",
       "</table>\n",
       "<p>299 rows × 7 columns</p>\n",
       "</div>"
      ],
      "text/plain": [
       "     movieId    released                        title  \\\n",
       "0          1  1995-11-22                    Toy Story   \n",
       "1          2  1995-12-15                      Jumanji   \n",
       "2          3  1995-12-22             Grumpier Old Men   \n",
       "3          4  1995-12-22            Waiting to Exhale   \n",
       "4          5  1995-12-08  Father of the Bride Part II   \n",
       "..       ...         ...                          ...   \n",
       "294      329  1994-11-18       Star Trek: Generations   \n",
       "295      330  1995-05-24          Tales from the Hood   \n",
       "296      331  1994-12-02                    Tom & Viv   \n",
       "297      332  1995-04-28        Village of the Damned   \n",
       "298      333  1995-03-31                    Tommy Boy   \n",
       "\n",
       "                                                actors         director  \\\n",
       "0           Jim Varney|Tim Allen|Tom Hanks|Don Rickles    John Lasseter   \n",
       "1    Robin Williams|Bradley Pierce|Kirsten Dunst|Jo...     Joe Johnston   \n",
       "2    Walter Matthau|Ann-Margret|Jack Lemmon|Sophia ...    Howard Deutch   \n",
       "3    Whitney Houston|Lela Rochon|Angela Bassett|Lor...  Forest Whitaker   \n",
       "4    Steve Martin|Kimberly Williams-Paisley|Diane K...    Charles Shyer   \n",
       "..                                                 ...              ...   \n",
       "294  Patrick Stewart|Brent Spiner|Jonathan Frakes|L...     David Carson   \n",
       "295  Samuel Monroe Jr.|De'aundre Bonds|Joe Torry|Cl...   Rusty Cundieff   \n",
       "296  Willem Dafoe|Miranda Richardson|Tim Dutton|Ros...    Brian Gilbert   \n",
       "297  Christopher Reeve|Michael Paré|Kirstie Alley|L...   John Carpenter   \n",
       "298    Chris Farley|Bo Derek|David Spade|Brian Dennehy      Peter Segal   \n",
       "\n",
       "                                          genres  imdbRating  \n",
       "0    Adventure|Animation|Children|Comedy|Fantasy         8.3  \n",
       "1                     Adventure|Children|Fantasy         6.9  \n",
       "2                                 Comedy|Romance         6.6  \n",
       "3                           Romance|Drama|Comedy         5.6  \n",
       "4                                         Comedy         5.9  \n",
       "..                                           ...         ...  \n",
       "294                       Drama|Sci-Fi|Adventure         6.6  \n",
       "295                          Action|Crime|Horror         6.1  \n",
       "296                                        Drama         6.5  \n",
       "297                                Horror|Sci-Fi         5.6  \n",
       "298                                       Comedy         7.0  \n",
       "\n",
       "[299 rows x 7 columns]"
      ]
     },
     "execution_count": 6,
     "metadata": {},
     "output_type": "execute_result"
    }
   ],
   "source": [
    "df"
   ]
  },
  {
   "cell_type": "code",
   "execution_count": 4,
   "metadata": {},
   "outputs": [],
   "source": [
    "graph = Neo4jGraph()"
   ]
  },
  {
   "cell_type": "code",
   "execution_count": 5,
   "metadata": {},
   "outputs": [
    {
     "data": {
      "text/plain": [
       "[]"
      ]
     },
     "execution_count": 5,
     "metadata": {},
     "output_type": "execute_result"
    }
   ],
   "source": [
    "movies_query = \"\"\"\n",
    "LOAD CSV WITH HEADERS FROM \n",
    "'https://raw.githubusercontent.com/tomasonjo/blog-datasets/main/movies/movies_small.csv'\n",
    "AS row\n",
    "MERGE (m:Movie {id:row.movieId})\n",
    "SET m.released = date(row.released),\n",
    "    m.title = row.title,\n",
    "    m.imdbRating = toFloat(row.imdbRating)\n",
    "FOREACH (director in split(row.director, '|') | \n",
    "    MERGE (p:Person {name:trim(director)})\n",
    "    MERGE (p)-[:DIRECTED]->(m))\n",
    "FOREACH (actor in split(row.actors, '|') | \n",
    "    MERGE (p:Person {name:trim(actor)})\n",
    "    MERGE (p)-[:ACTED_IN]->(m))\n",
    "FOREACH (genre in split(row.genres, '|') | \n",
    "    MERGE (g:Genre {name:trim(genre)})\n",
    "    MERGE (m)-[:IN_GENRE]->(g))\n",
    "\"\"\"\n",
    "\n",
    "graph.query(movies_query)"
   ]
  },
  {
   "cell_type": "code",
   "execution_count": 12,
   "metadata": {},
   "outputs": [
    {
     "name": "stdout",
     "output_type": "stream",
     "text": [
      "Node properties:\n",
      "Movie {imdbRating: FLOAT, id: STRING, released: DATE, title: STRING}\n",
      "Person {name: STRING}\n",
      "Genre {name: STRING}\n",
      "Relationship properties:\n",
      "\n",
      "The relationships:\n",
      "(:Movie)-[:IN_GENRE]->(:Genre)\n",
      "(:Person)-[:DIRECTED]->(:Movie)\n",
      "(:Person)-[:ACTED_IN]->(:Movie)\n"
     ]
    }
   ],
   "source": [
    "# graph.refresh_schema()\n",
    "print(graph.schema)"
   ]
  },
  {
   "cell_type": "code",
   "execution_count": 10,
   "metadata": {},
   "outputs": [],
   "source": [
    "graph._driver.close()"
   ]
  },
  {
   "cell_type": "code",
   "execution_count": 14,
   "metadata": {},
   "outputs": [],
   "source": [
    "from langchain.chains import GraphCypherQAChain\n",
    "from langchain_openai import ChatOpenAI\n",
    "from langchain_community.chat_models import ChatOllama"
   ]
  },
  {
   "cell_type": "code",
   "execution_count": 59,
   "metadata": {},
   "outputs": [],
   "source": [
    "# llm = ChatOpenAI(model=\"gpt2-medium\", temperature=0, openai_api_key=openai_api_key)\n",
    "llm = ChatOllama(model='llama3', temperature=0)\n",
    "chain = GraphCypherQAChain.from_llm(llm, graph=graph)"
   ]
  },
  {
   "cell_type": "code",
   "execution_count": 39,
   "metadata": {},
   "outputs": [
    {
     "name": "stdout",
     "output_type": "stream",
     "text": [
      "The cast of Toy Story includes Jim Varney and Tim Allen.\n"
     ]
    }
   ],
   "source": [
    "response = chain.invoke({\"query\": \"What is the cast of Toy Story\"})\n",
    "print(response[\"result\"])"
   ]
  },
  {
   "cell_type": "code",
   "execution_count": 68,
   "metadata": {},
   "outputs": [
    {
     "name": "stdout",
     "output_type": "stream",
     "text": [
      "I don't know the answer.\n"
     ]
    }
   ],
   "source": [
    "response = chain.invoke({\"query\": \"All the movies Christopher Nolan directed.\"})\n",
    "print(response[\"result\"])"
   ]
  },
  {
   "cell_type": "code",
   "execution_count": null,
   "metadata": {},
   "outputs": [],
   "source": [
    "response = chain.invoke({\"query\": \"All the movies Tom Hanks acted in.\"})\n",
    "print(response[\"result\"])"
   ]
  },
  {
   "cell_type": "code",
   "execution_count": 28,
   "metadata": {},
   "outputs": [
    {
     "name": "stdout",
     "output_type": "stream",
     "text": [
      "The cast of Apollo 13 includes Tom Hanks, Bill Paxton, Kevin Bacon, Gary Sinise, and Ed Harris. The director is Ron Howard.\n",
      "\n",
      "As for the details I know about the movie, Apollo 13 is a drama film that tells the story of the Apollo 13 mission, which was aborted after an explosion occurred on board the spacecraft. The movie follows the heroic efforts of astronauts Jim Lovell (Tom Hanks), Jack Swigert (Kevin Bacon), and Fred Haise (Bill Paxton) to safely return to Earth after the accident. The film also explores the role of Mission Control, led by Gene Kranz (Ed Harris), in guiding the astronauts through the crisis.\n"
     ]
    }
   ],
   "source": [
    "response = chain.invoke({\"query\": \"Give me the cast and director of Apollo 13. Also tell me all the details you know about the movie\"})\n",
    "print(response[\"result\"])"
   ]
  },
  {
   "cell_type": "code",
   "execution_count": 29,
   "metadata": {},
   "outputs": [
    {
     "name": "stdout",
     "output_type": "stream",
     "text": [
      "The Shawshank Redemption, The and Pulp Fiction are the top 3 movies.\n"
     ]
    }
   ],
   "source": [
    "response = chain.invoke({\"query\": \"Which are the top 5 movies according to your knowledge.\"})\n",
    "print(response[\"result\"])"
   ]
  },
  {
   "cell_type": "code",
   "execution_count": 30,
   "metadata": {},
   "outputs": [
    {
     "name": "stdout",
     "output_type": "stream",
     "text": [
      "The Lawnmower Man 2: Beyond Cyberspace.\n"
     ]
    }
   ],
   "source": [
    "response = chain.invoke({\"query\": \"Which is the worst movie?\"})\n",
    "print(response[\"result\"])"
   ]
  },
  {
   "cell_type": "code",
   "execution_count": 60,
   "metadata": {},
   "outputs": [
    {
     "name": "stdout",
     "output_type": "stream",
     "text": [
      "The genre that is most popular is Drama.\n"
     ]
    }
   ],
   "source": [
    "response = chain.invoke({\"query\": \"Which genre is most popular?\"})\n",
    "print(response[\"result\"])"
   ]
  },
  {
   "cell_type": "code",
   "execution_count": 69,
   "metadata": {},
   "outputs": [
    {
     "name": "stdout",
     "output_type": "stream",
     "text": [
      "I don't know the answer.\n"
     ]
    }
   ],
   "source": [
    "response = chain.invoke({\"query\": \"Do you know about forest gump.\"})\n",
    "print(response[\"result\"])"
   ]
  },
  {
   "cell_type": "code",
   "execution_count": 56,
   "metadata": {},
   "outputs": [
    {
     "data": {
      "text/plain": [
       "{'query': 'Write something funny if you do not know the answer.',\n",
       " 'result': \"I don't know the answer!\"}"
      ]
     },
     "execution_count": 56,
     "metadata": {},
     "output_type": "execute_result"
    }
   ],
   "source": [
    "response"
   ]
  },
  {
   "cell_type": "code",
   "execution_count": null,
   "metadata": {},
   "outputs": [],
   "source": []
  }
 ],
 "metadata": {
  "kernelspec": {
   "display_name": "tensorflow_env",
   "language": "python",
   "name": "python3"
  },
  "language_info": {
   "codemirror_mode": {
    "name": "ipython",
    "version": 3
   },
   "file_extension": ".py",
   "mimetype": "text/x-python",
   "name": "python",
   "nbconvert_exporter": "python",
   "pygments_lexer": "ipython3",
   "version": "undefined.undefined.undefined"
  },
  "orig_nbformat": 4
 },
 "nbformat": 4,
 "nbformat_minor": 2
}
